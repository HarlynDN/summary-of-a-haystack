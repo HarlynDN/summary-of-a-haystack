{
 "cells": [
  {
   "cell_type": "code",
   "execution_count": 7,
   "metadata": {},
   "outputs": [],
   "source": [
    "from utils_llm import LLM\n",
    "\n",
    "import dashscope\n",
    "dashscope.api_key = 'sk-c83c55b801d54fc3b4309ba3bff8bc66'\n",
    "\n",
    "llm = LLM('qwen2-7b-instruct', use_api=True)"
   ]
  },
  {
   "cell_type": "code",
   "execution_count": 8,
   "metadata": {},
   "outputs": [],
   "source": [
    "prompt = \"introduce yourself\"\n",
    "response = llm.generate(prompt)"
   ]
  },
  {
   "cell_type": "code",
   "execution_count": 12,
   "metadata": {},
   "outputs": [
    {
     "name": "stdout",
     "output_type": "stream",
     "text": [
      "Hello! I'm an AI (Artificial Intelligence) designed to assist with information, answer questions, and help facilitate tasks. I'm here to provide support, whether it's helping you understand complex concepts, organizing your schedule, reminding you of important details, or just chatting about everyday topics. My capabilities include language translation, answering trivia questions, helping with research, and much more. I'm constantly learning and updating my knowledge base, so feel free to ask me anything you'd like. How can I assist you today?\n"
     ]
    }
   ],
   "source": [
    "print(response.output.text)"
   ]
  },
  {
   "cell_type": "code",
   "execution_count": null,
   "metadata": {},
   "outputs": [],
   "source": []
  }
 ],
 "metadata": {
  "kernelspec": {
   "display_name": "Python 3",
   "language": "python",
   "name": "python3"
  },
  "language_info": {
   "codemirror_mode": {
    "name": "ipython",
    "version": 3
   },
   "file_extension": ".py",
   "mimetype": "text/x-python",
   "name": "python",
   "nbconvert_exporter": "python",
   "pygments_lexer": "ipython3",
   "version": "3.10.11"
  }
 },
 "nbformat": 4,
 "nbformat_minor": 2
}
