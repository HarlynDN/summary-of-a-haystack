{
 "cells": [
  {
   "cell_type": "code",
   "execution_count": 4,
   "metadata": {},
   "outputs": [
    {
     "name": "stdout",
     "output_type": "stream",
     "text": [
      "621\n"
     ]
    }
   ],
   "source": [
    "import json\n",
    "\n",
    "topic_fns = [f\"topic_conv{i}.json\" for i in range(1, 6)]\n",
    "topic_fns += [f\"topic_news{i}.json\" for i in range(1, 6)]\n",
    "\n",
    "insights = []\n",
    "for fn in topic_fns:\n",
    "    topic = json.load(open(fn))\n",
    "    for subtopic in topic['subtopics']:\n",
    "        for insight in subtopic[\"insights\"]:\n",
    "            insights.append(insight)\n",
    "print(len(insights))"
   ]
  },
  {
   "cell_type": "markdown",
   "metadata": {},
   "source": [
    "remove model summaries from data"
   ]
  },
  {
   "cell_type": "code",
   "execution_count": 6,
   "metadata": {},
   "outputs": [],
   "source": [
    "import json\n",
    "topic_fns = [f\"topic_conv{i}.json\" for i in range(1, 6)]\n",
    "topic_fns += [f\"topic_news{i}.json\" for i in range(1, 6)]\n",
    "\n",
    "for fn in topic_fns:\n",
    "    topic = json.load(open(fn))\n",
    "    for subtopic in topic['subtopics']:\n",
    "        subtopic['summaries'] = {}\n",
    "        subtopic['eval_summaries'] = {}\n",
    "    json.dump(topic, open('cleaned_data/'+fn, 'w'), indent=2)"
   ]
  },
  {
   "cell_type": "code",
   "execution_count": null,
   "metadata": {},
   "outputs": [],
   "source": []
  }
 ],
 "metadata": {
  "kernelspec": {
   "display_name": "Python 3",
   "language": "python",
   "name": "python3"
  },
  "language_info": {
   "codemirror_mode": {
    "name": "ipython",
    "version": 3
   },
   "file_extension": ".py",
   "mimetype": "text/x-python",
   "name": "python",
   "nbconvert_exporter": "python",
   "pygments_lexer": "ipython3",
   "version": "3.10.11"
  }
 },
 "nbformat": 4,
 "nbformat_minor": 2
}
