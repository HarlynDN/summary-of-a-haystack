{
 "cells": [
  {
   "cell_type": "code",
   "execution_count": 4,
   "metadata": {},
   "outputs": [
    {
     "name": "stdout",
     "output_type": "stream",
     "text": [
      "621\n"
     ]
    }
   ],
   "source": [
    "import json\n",
    "\n",
    "topic_fns = [f\"topic_conv{i}.json\" for i in range(1, 6)]\n",
    "topic_fns += [f\"topic_news{i}.json\" for i in range(1, 6)]\n",
    "\n",
    "insights = []\n",
    "for fn in topic_fns:\n",
    "    topic = json.load(open(fn))\n",
    "    for subtopic in topic['subtopics']:\n",
    "        for insight in subtopic[\"insights\"]:\n",
    "            insights.append(insight)\n",
    "print(len(insights))"
   ]
  },
  {
   "cell_type": "markdown",
   "metadata": {},
   "source": [
    "remove model summaries from data"
   ]
  },
  {
   "cell_type": "code",
   "execution_count": 6,
   "metadata": {},
   "outputs": [],
   "source": [
    "import json\n",
    "topic_fns = [f\"topic_conv{i}.json\" for i in range(1, 6)]\n",
    "topic_fns += [f\"topic_news{i}.json\" for i in range(1, 6)]\n",
    "\n",
    "for fn in topic_fns:\n",
    "    topic = json.load(open(fn))\n",
    "    for subtopic in topic['subtopics']:\n",
    "        subtopic['summaries'] = {}\n",
    "        subtopic['eval_summaries'] = {}\n",
    "    json.dump(topic, open('cleaned_data/'+fn, 'w'), indent=2)"
   ]
  },
  {
   "cell_type": "code",
   "execution_count": 8,
   "metadata": {},
   "outputs": [
    {
     "name": "stdout",
     "output_type": "stream",
     "text": [
      "{\"status_code\": 200, \"request_id\": \"879ddb8b-b948-9535-ab7b-cbb81641de74\", \"code\": \"\", \"message\": \"\", \"output\": {\"text\": null, \"finish_reason\": null, \"choices\": [{\"finish_reason\": \"stop\", \"message\": {\"role\": \"assistant\", \"content\": \"故宫是中国历史上最著名的宫殿建筑群，位于北京市中心。它是明清两代的皇宫，也是中国现存规模最大、保存最完整的古代宫殿建筑群。故宫始建于明朝永乐四年（1406年），历时14年建成，初名“紫禁城”。故宫的布局严谨，采用中轴对称的设计，共有980余座建筑物，包括殿、阁、楼、亭等。故宫内藏有大量的文物和艺术品，包括绘画、书法、瓷器、玉器等。\"}}]}, \"usage\": {\"input_tokens\": 26, \"output_tokens\": 145, \"total_tokens\": 171}}\n"
     ]
    }
   ],
   "source": [
    "# test llama3 api\n",
    "\n",
    "from http import HTTPStatus\n",
    "import dashscope\n",
    "\n",
    "\n",
    "def call_with_messages():\n",
    "    messages = [{'role': 'system', 'content': 'You are a helpful assistant.'},\n",
    "                {'role': 'user', 'content': '介绍下故宫？'}]\n",
    "    response = dashscope.Generation.call(\n",
    "        model='llama3.1-405b-instruct',\n",
    "        messages=messages,\n",
    "        result_format='message',  # set the result to be \"message\" format.\n",
    "    )\n",
    "    if response.status_code == HTTPStatus.OK:\n",
    "        print(response)\n",
    "    else:\n",
    "        print('Request id: %s, Status code: %s, error code: %s, error message: %s' % (\n",
    "            response.request_id, response.status_code,\n",
    "            response.code, response.message\n",
    "        ))\n",
    "call_with_messages()"
   ]
  },
  {
   "cell_type": "code",
   "execution_count": null,
   "metadata": {},
   "outputs": [],
   "source": []
  }
 ],
 "metadata": {
  "kernelspec": {
   "display_name": "Python 3",
   "language": "python",
   "name": "python3"
  },
  "language_info": {
   "codemirror_mode": {
    "name": "ipython",
    "version": 3
   },
   "file_extension": ".py",
   "mimetype": "text/x-python",
   "name": "python",
   "nbconvert_exporter": "python",
   "pygments_lexer": "ipython3",
   "version": "3.10.11"
  }
 },
 "nbformat": 4,
 "nbformat_minor": 2
}
